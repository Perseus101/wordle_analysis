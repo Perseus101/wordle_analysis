{
 "cells": [
  {
   "cell_type": "markdown",
   "id": "3d848c5b",
   "metadata": {},
   "source": [
    "# Wordle Analysis\n",
    "\n",
    "This notebook uses the word list scraped from the Wordle game to identify the optimal opening words."
   ]
  },
  {
   "cell_type": "markdown",
   "id": "dbe53356",
   "metadata": {},
   "source": [
    "## Loading word lists"
   ]
  },
  {
   "cell_type": "code",
   "execution_count": 1,
   "id": "b6b0b2bd",
   "metadata": {},
   "outputs": [
    {
     "data": {
      "text/plain": [
       "['aback',\n",
       " 'abase',\n",
       " 'abate',\n",
       " 'abbey',\n",
       " 'abbot',\n",
       " 'abhor',\n",
       " 'abide',\n",
       " 'abled',\n",
       " 'abode',\n",
       " 'abort']"
      ]
     },
     "execution_count": 1,
     "metadata": {},
     "output_type": "execute_result"
    }
   ],
   "source": [
    "# Load all the valid answers\n",
    "with open('wordle-answers-alphabetical.txt', 'r') as f:\n",
    "    answers = [l[:-1] for l in f]\n",
    "\n",
    "# Display the first 10 answers\n",
    "answers[:10]"
   ]
  },
  {
   "cell_type": "code",
   "execution_count": 2,
   "id": "93ed8cbf",
   "metadata": {},
   "outputs": [
    {
     "data": {
      "text/plain": [
       "['aahed',\n",
       " 'aalii',\n",
       " 'aargh',\n",
       " 'aarti',\n",
       " 'abaca',\n",
       " 'abaci',\n",
       " 'abacs',\n",
       " 'abaft',\n",
       " 'abaka',\n",
       " 'abamp']"
      ]
     },
     "execution_count": 2,
     "metadata": {},
     "output_type": "execute_result"
    }
   ],
   "source": [
    "# Load all the valid guesses\n",
    "with open('wordle-allowed-guesses.txt', 'r') as f:\n",
    "    guesses = [l[:-1] for l in f]\n",
    "    \n",
    "# Display the first 10 guesses\n",
    "guesses[:10]"
   ]
  },
  {
   "cell_type": "markdown",
   "id": "7faea2fa",
   "metadata": {},
   "source": [
    "## Finding yellow letters"
   ]
  },
  {
   "cell_type": "code",
   "execution_count": 3,
   "id": "509ea015",
   "metadata": {
    "scrolled": true
   },
   "outputs": [
    {
     "data": {
      "text/plain": [
       "[('e', 1233),\n",
       " ('a', 979),\n",
       " ('r', 899),\n",
       " ('o', 754),\n",
       " ('t', 729),\n",
       " ('l', 718),\n",
       " ('i', 671),\n",
       " ('s', 669),\n",
       " ('n', 575),\n",
       " ('c', 477),\n",
       " ('u', 467),\n",
       " ('y', 425),\n",
       " ('d', 393),\n",
       " ('h', 389),\n",
       " ('p', 367),\n",
       " ('m', 316),\n",
       " ('g', 311),\n",
       " ('b', 281),\n",
       " ('f', 230),\n",
       " ('k', 210),\n",
       " ('w', 195),\n",
       " ('v', 153),\n",
       " ('z', 40),\n",
       " ('x', 37),\n",
       " ('q', 29),\n",
       " ('j', 27)]"
      ]
     },
     "execution_count": 3,
     "metadata": {},
     "output_type": "execute_result"
    }
   ],
   "source": [
    "letter_frequencies = {chr(c): 0 for c in range(ord(\"a\"), ord(\"z\")+1)}\n",
    "for word in answers:\n",
    "    for letter in word:\n",
    "        letter_frequencies[letter] += 1\n",
    "        \n",
    "# Display letters in order of descending freqency\n",
    "sorted(letter_frequencies.items(), key=lambda x: x[1], reverse=True)"
   ]
  },
  {
   "cell_type": "code",
   "execution_count": 4,
   "id": "79d1a23b",
   "metadata": {},
   "outputs": [
    {
     "data": {
      "text/plain": [
       "[('oater', 4594),\n",
       " ('orate', 4594),\n",
       " ('roate', 4594),\n",
       " ('realo', 4583),\n",
       " ('alert', 4558),\n",
       " ('alter', 4558),\n",
       " ('later', 4558),\n",
       " ('artel', 4558),\n",
       " ('ratel', 4558),\n",
       " ('taler', 4558)]"
      ]
     },
     "execution_count": 4,
     "metadata": {},
     "output_type": "execute_result"
    }
   ],
   "source": [
    "from itertools import chain\n",
    "\n",
    "\n",
    "def score_word(word):\n",
    "    score = 0\n",
    "    letters = set(word)\n",
    "    for letter in letters:\n",
    "        score += letter_frequencies[letter]\n",
    "\n",
    "    return score\n",
    "\n",
    "\n",
    "word_scores = [(word, score_word(word)) for word in chain(answers, guesses)]\n",
    "word_scores.sort(key=lambda x: x[1], reverse=True)\n",
    "word_scores[:10]"
   ]
  },
  {
   "cell_type": "code",
   "execution_count": 5,
   "id": "4507be23",
   "metadata": {},
   "outputs": [
    {
     "name": "stdout",
     "output_type": "stream",
     "text": [
      "stark is ranked 2801 / 12972\n"
     ]
    }
   ],
   "source": [
    "def get_word_rank(target_word, word_scores):\n",
    "    target_score = None\n",
    "\n",
    "    for word, score in word_scores:\n",
    "        if word == target_word:\n",
    "            target_score = score\n",
    "            break\n",
    "\n",
    "    if target_score is not None:\n",
    "        for i, (word, score) in enumerate(word_scores):\n",
    "            if score <= target_score:\n",
    "                print(f\"{target_word} is ranked {i} / {len(answers) + len(guesses)}\")\n",
    "                break\n",
    "    else:\n",
    "        print(\"Invalid word\")\n",
    "\n",
    "get_word_rank(\"stark\", word_scores)"
   ]
  },
  {
   "cell_type": "markdown",
   "id": "225f376d",
   "metadata": {},
   "source": [
    "## Finding green letters"
   ]
  },
  {
   "cell_type": "code",
   "execution_count": 6,
   "id": "e885c4ce",
   "metadata": {},
   "outputs": [
    {
     "data": {
      "text/plain": [
       "[(('e', 4), 424),\n",
       " (('s', 0), 366),\n",
       " (('y', 4), 364),\n",
       " (('e', 3), 318),\n",
       " (('a', 2), 307),\n",
       " (('a', 1), 304),\n",
       " (('o', 1), 279),\n",
       " (('r', 1), 267),\n",
       " (('i', 2), 266),\n",
       " (('t', 4), 253),\n",
       " (('o', 2), 244),\n",
       " (('e', 1), 242),\n",
       " (('r', 4), 212),\n",
       " (('i', 1), 202),\n",
       " (('l', 1), 201),\n",
       " (('c', 0), 198),\n",
       " (('u', 1), 186),\n",
       " (('n', 3), 182),\n",
       " (('e', 2), 177),\n",
       " (('b', 0), 173),\n",
       " (('s', 3), 171),\n",
       " (('u', 2), 165),\n",
       " (('a', 3), 163),\n",
       " (('r', 2), 163),\n",
       " (('l', 3), 162),\n",
       " (('i', 3), 158),\n",
       " (('l', 4), 155),\n",
       " (('c', 3), 152),\n",
       " (('r', 3), 152),\n",
       " (('t', 0), 149),\n",
       " (('h', 1), 144),\n",
       " (('p', 0), 142),\n",
       " (('a', 0), 141),\n",
       " (('h', 4), 139),\n",
       " (('n', 2), 139),\n",
       " (('t', 3), 139),\n",
       " (('f', 0), 136),\n",
       " (('o', 3), 132),\n",
       " (('n', 4), 130),\n",
       " (('d', 4), 118),\n",
       " (('g', 0), 115),\n",
       " (('k', 4), 113),\n",
       " (('l', 2), 112),\n",
       " (('d', 0), 111),\n",
       " (('t', 2), 111),\n",
       " (('m', 0), 107),\n",
       " (('r', 0), 105),\n",
       " (('l', 0), 88),\n",
       " (('n', 1), 87),\n",
       " (('w', 0), 83),\n",
       " (('u', 3), 82),\n",
       " (('s', 2), 80),\n",
       " (('t', 1), 77),\n",
       " (('g', 3), 76),\n",
       " (('d', 2), 75),\n",
       " (('e', 0), 72),\n",
       " (('d', 3), 69),\n",
       " (('h', 0), 69),\n",
       " (('m', 3), 68),\n",
       " (('g', 2), 67),\n",
       " (('a', 4), 64),\n",
       " (('m', 2), 61),\n",
       " (('p', 1), 61),\n",
       " (('o', 4), 58),\n",
       " (('p', 2), 58),\n",
       " (('b', 2), 57),\n",
       " (('c', 2), 56),\n",
       " (('p', 4), 56),\n",
       " (('k', 3), 55),\n",
       " (('p', 3), 50),\n",
       " (('v', 2), 49),\n",
       " (('v', 3), 46),\n",
       " (('w', 1), 44),\n",
       " (('v', 0), 43),\n",
       " (('m', 4), 42),\n",
       " (('g', 4), 41),\n",
       " (('o', 0), 41),\n",
       " (('c', 1), 40),\n",
       " (('m', 1), 38),\n",
       " (('n', 0), 37),\n",
       " (('s', 4), 36),\n",
       " (('f', 3), 35),\n",
       " (('i', 0), 34),\n",
       " (('u', 0), 33),\n",
       " (('c', 4), 31),\n",
       " (('y', 2), 29),\n",
       " (('h', 3), 28),\n",
       " (('f', 4), 26),\n",
       " (('w', 2), 26),\n",
       " (('f', 2), 25),\n",
       " (('w', 3), 25),\n",
       " (('b', 3), 24),\n",
       " (('q', 0), 23),\n",
       " (('y', 1), 23),\n",
       " (('d', 1), 20),\n",
       " (('j', 0), 20),\n",
       " (('k', 0), 20),\n",
       " (('z', 3), 20),\n",
       " (('w', 4), 17),\n",
       " (('b', 1), 16),\n",
       " (('s', 1), 16),\n",
       " (('v', 1), 15),\n",
       " (('x', 1), 14),\n",
       " (('g', 1), 12),\n",
       " (('k', 2), 12),\n",
       " (('x', 2), 12),\n",
       " (('b', 4), 11),\n",
       " (('i', 4), 11),\n",
       " (('z', 2), 11),\n",
       " (('k', 1), 10),\n",
       " (('h', 2), 9),\n",
       " (('f', 1), 8),\n",
       " (('x', 4), 8),\n",
       " (('y', 0), 6),\n",
       " (('q', 1), 5),\n",
       " (('z', 4), 4),\n",
       " (('j', 2), 3),\n",
       " (('x', 3), 3),\n",
       " (('y', 3), 3),\n",
       " (('z', 0), 3),\n",
       " (('j', 1), 2),\n",
       " (('j', 3), 2),\n",
       " (('z', 1), 2),\n",
       " (('q', 2), 1),\n",
       " (('u', 4), 1),\n",
       " (('j', 4), 0),\n",
       " (('q', 3), 0),\n",
       " (('q', 4), 0),\n",
       " (('v', 4), 0),\n",
       " (('x', 0), 0)]"
      ]
     },
     "execution_count": 6,
     "metadata": {},
     "output_type": "execute_result"
    }
   ],
   "source": [
    "position_frequencies = {}\n",
    "for c in range(ord(\"a\"), ord(\"z\")+1):\n",
    "    char = chr(c)\n",
    "    for pose in range(5):\n",
    "        position_frequencies[(char, pose)] = 0\n",
    "\n",
    "for word in answers:\n",
    "    for pose, letter in enumerate(word):\n",
    "        position_frequencies[(letter, pose)] += 1\n",
    "\n",
    "sorted(position_frequencies.items(), key=lambda x: x[1], reverse=True)"
   ]
  },
  {
   "cell_type": "code",
   "execution_count": 7,
   "id": "0e3e51db",
   "metadata": {},
   "outputs": [
    {
     "data": {
      "text/plain": [
       "[('saree', 1575),\n",
       " ('sooey', 1571),\n",
       " ('soree', 1550),\n",
       " ('saine', 1542),\n",
       " ('soare', 1528),\n",
       " ('saice', 1512),\n",
       " ('sease', 1510),\n",
       " ('seare', 1491),\n",
       " ('seine', 1480),\n",
       " ('slane', 1480)]"
      ]
     },
     "execution_count": 7,
     "metadata": {},
     "output_type": "execute_result"
    }
   ],
   "source": [
    "def score_word(word):\n",
    "    score = 0\n",
    "    for pose, letter in enumerate(word):\n",
    "        score += position_frequencies[(letter, pose)]\n",
    "\n",
    "    return score\n",
    "\n",
    "\n",
    "frequency_word_scores = [(word, score_word(word)) for word in chain(answers, guesses)]\n",
    "frequency_word_scores.sort(key=lambda x: x[1], reverse=True)\n",
    "frequency_word_scores[:10]"
   ]
  },
  {
   "cell_type": "code",
   "execution_count": 8,
   "id": "3cf807cb",
   "metadata": {},
   "outputs": [
    {
     "name": "stdout",
     "output_type": "stream",
     "text": [
      "oater is ranked 2667 / 12972\n",
      "orate is ranked 576 / 12972\n",
      "roate is ranked 241 / 12972\n"
     ]
    }
   ],
   "source": [
    "# Top 3 words are tied for yellow rank\n",
    "for word, score in word_scores[:3]:\n",
    "    get_word_rank(word, frequency_word_scores)"
   ]
  },
  {
   "cell_type": "markdown",
   "id": "30b1e521",
   "metadata": {},
   "source": [
    "## Conclusion\n",
    "\n",
    "Roate is the best chance to get the most yellows AND greens on the first guess"
   ]
  }
 ],
 "metadata": {
  "kernelspec": {
   "display_name": "Python 3.8.5 64-bit",
   "language": "python",
   "name": "python385jvsc74a57bd00f75e0b6c4c37cdb17904fde99f655b0aae738bbd09492b9e9c3ea29a00a8236"
  },
  "language_info": {
   "codemirror_mode": {
    "name": "ipython",
    "version": 3
   },
   "file_extension": ".py",
   "mimetype": "text/x-python",
   "name": "python",
   "nbconvert_exporter": "python",
   "pygments_lexer": "ipython3",
   "version": "3.8.10"
  }
 },
 "nbformat": 4,
 "nbformat_minor": 5
}
